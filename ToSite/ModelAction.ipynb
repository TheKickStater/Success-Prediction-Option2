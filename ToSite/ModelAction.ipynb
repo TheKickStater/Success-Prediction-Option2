{
 "cells": [
  {
   "cell_type": "code",
   "execution_count": 140,
   "id": "58a99b31",
   "metadata": {},
   "outputs": [
    {
     "name": "stdout",
     "output_type": "stream",
     "text": [
      "Model predicted 1 with a probability of 58.82\n"
     ]
    }
   ],
   "source": [
    "# Imports\n",
    "import pickle, json\n",
    "import pandas as pd\n",
    "import numpy as np\n",
    "from tensorflow.keras.preprocessing.text import Tokenizer\n",
    "from tensorflow.keras.preprocessing import sequence\n",
    "from tensorflow import keras\n",
    "\n",
    "# Unpickling fitted tokenizer\n",
    "with open('tokenizer.pickle', 'rb') as handle:\n",
    "    tokenizer = pickle.load(handle)\n",
    "\n",
    "# Single row of dataframe\n",
    "# Expected format [Timeline, goal, cat, text, subcat]\n",
    "\n",
    "inputList = [60,11000.0,1,\n",
    "            \"A graphic novel and unique take on Anthology Horror. This volume would tell a single story, and introduce it's host, The Gravedigger!\",\n",
    "            66]  # No need to remove index number\n",
    "\n",
    "df = pd.DataFrame(data=[inputList])\n",
    "\n",
    "tl = [inputList[3]] # Need to pass values into its own list\n",
    "outList = inputList\n",
    "\n",
    "maxlen = 43 # Somewhat arbitrary at this point, neccessary however\n",
    "seq = tokenizer.texts_to_sequences(df[3])\n",
    "# seq2 = [i for s in seq for i in s]\n",
    "padded_sequence = sequence.pad_sequences(seq, maxlen)\n",
    "\n",
    "# insert each encoded text value into correct position\n",
    "for j in range(5, 48):\n",
    "    f = j-5\n",
    "    df[j] = [padded_sequence[0][f]]\n",
    "    \n",
    "# Remove unencoded text, each word is now encoded and has own index\n",
    "df.drop(columns=[3], inplace=True) \n",
    "\n",
    "# Convert df to numpy array\n",
    "arr = df.to_numpy()\n",
    "tarr = arr.reshape(1, 47, 1)\n",
    "tarr = np.asarray(tarr).astype('float32')\n",
    "\n",
    "# Load in model and make prediction\n",
    "model = keras.models.load_model('models')\n",
    "\n",
    "# Make a prediction\n",
    "y_pred_proba = round((model.predict(tarr)[0][0] * 100), 2)\n",
    "y_pred = model.predict_classes(tarr)[0][0]\n",
    "\n",
    "# Print out prediction\n",
    "print(\"Model predicted {} with a probability of {}\".format(y_pred, y_pred_proba))"
   ]
  }
 ],
 "metadata": {
  "kernelspec": {
   "display_name": "Python 3",
   "language": "python",
   "name": "python3"
  },
  "language_info": {
   "codemirror_mode": {
    "name": "ipython",
    "version": 3
   },
   "file_extension": ".py",
   "mimetype": "text/x-python",
   "name": "python",
   "nbconvert_exporter": "python",
   "pygments_lexer": "ipython3",
   "version": "3.8.8"
  }
 },
 "nbformat": 4,
 "nbformat_minor": 5
}
